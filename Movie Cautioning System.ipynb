{
 "cells": [
  {
   "cell_type": "markdown",
   "metadata": {},
   "source": [
    "## Effective Version - Batch-wise processing (DeQueue method)"
   ]
  },
  {
   "cell_type": "code",
   "execution_count": 1,
   "metadata": {},
   "outputs": [
    {
     "name": "stdout",
     "output_type": "stream",
     "text": [
      "[INFO] loading human activity recognition model...\n",
      "[INFO] accessing video stream...\n",
      "[Info] No frame read from stream - exiting\n"
     ]
    },
    {
     "ename": "SystemExit",
     "evalue": "0",
     "output_type": "error",
     "traceback": [
      "An exception has occurred, use %tb to see the full traceback.\n",
      "\u001b[1;31mSystemExit\u001b[0m\u001b[1;31m:\u001b[0m 0\n"
     ]
    },
    {
     "name": "stderr",
     "output_type": "stream",
     "text": [
      "c:\\users\\vsneh\\appdata\\local\\programs\\python\\python37\\lib\\site-packages\\IPython\\core\\interactiveshell.py:3334: UserWarning: To exit: use 'exit', 'quit', or Ctrl-D.\n",
      "  warn(\"To exit: use 'exit', 'quit', or Ctrl-D.\", stacklevel=1)\n"
     ]
    }
   ],
   "source": [
    "# Import modules\n",
    "import numpy as np\n",
    "import imutils\n",
    "import sys\n",
    "import cv2\n",
    "\n",
    "\n",
    "# load the contents of the class labels file, then define the sample\n",
    "# duration (i.e., # of frames for classification) and sample size\n",
    "# (i.e., the spatial dimensions of the frame)\n",
    "CLASSES = open('action_recognition_kinetics.txt').read().strip().split(\"\\n\")\n",
    "SAMPLE_DURATION = 16\n",
    "SAMPLE_SIZE = 112\n",
    "\n",
    "# load the human activity recognition model\n",
    "print(\"[INFO] loading human activity recognition model...\")\n",
    "net = cv2.dnn.readNet('resnet-34_kinetics.onnx')\n",
    "\n",
    "# grab a pointer to the input video stream\n",
    "print(\"[INFO] accessing video stream...\")\n",
    "cap = cv2.VideoCapture('bike-2.mp4')\n",
    "\n",
    "# loop until we explicitly break from it\n",
    "while True:\n",
    "    frames = []\n",
    "    # Loop for every 'SAMPLE_DURATION' frames\n",
    "    for i in range(0, SAMPLE_DURATION):\n",
    "        # read each frame\n",
    "        grabbed, frame = cap.read()\n",
    "\n",
    "        # If no frame exists or end of the video.\n",
    "        if not grabbed:\n",
    "            print(\"[Info] No frame read from stream - exiting\")\n",
    "            sys.exit(0)\n",
    "        # Not end of the video\n",
    "        frame = imutils.resize(frame, width=400)\n",
    "        frames.append(frame)\n",
    "\n",
    "    # now that our frames array is filled we can construct our blob\n",
    "    blob = cv2.dnn.blobFromImages(frames, 1.0, (SAMPLE_SIZE, SAMPLE_SIZE), (114.7748, 107.7354, 99.4750),\n",
    "                                  swapRB=True, crop=True)\n",
    "    blob = np.transpose(blob, (1, 0, 2, 3))\n",
    "    blob = np.expand_dims(blob, axis=0)\n",
    "\n",
    "    # pass the blob through the model to obtain our human activity recognition predictions!!\n",
    "    net.setInput(blob)\n",
    "    outputs = net.forward()\n",
    "    label = CLASSES[np.argmax(outputs)]\n",
    "\n",
    "    # loop over our frames\n",
    "    for frame in frames:\n",
    "        # draw the predicted activity on the frame\n",
    "        cv2.rectangle(frame, (0, 0), (300, 40), (0, 0, 0), -1)\n",
    "        cv2.putText(frame, label, (10, 25), cv2.FONT_HERSHEY_SIMPLEX,\n",
    "            0.8, (255, 255, 255), 2)\n",
    "\n",
    "        # display the frame to our screen\n",
    "        cv2.imshow(\"Activity Recognition\", frame)\n",
    "        if cv2.waitKey(1)==ord('q'):\n",
    "                        break\n",
    "cap.release()\n",
    "cv2.destroyAllWindows()\n"
   ]
  },
  {
   "cell_type": "markdown",
   "metadata": {},
   "source": [
    "## Less Effective Version- Frame by Frame processing"
   ]
  },
  {
   "cell_type": "code",
   "execution_count": 1,
   "metadata": {},
   "outputs": [],
   "source": [
    "# Import necessary packages\n",
    "from collections import deque\n",
    "import numpy as np\n",
    "import argparse\n",
    "import imutils\n",
    "import cv2\n",
    "import matplotlib.pyplot as plt"
   ]
  },
  {
   "cell_type": "markdown",
   "metadata": {},
   "source": [
    "* Warning images to Overlay\n",
    "* Helper Function"
   ]
  },
  {
   "cell_type": "code",
   "execution_count": 2,
   "metadata": {},
   "outputs": [],
   "source": [
    "sm = cv2.imread('./disclaimers-new/capture4.png')\n",
    "ca = cv2.imread('./disclaimers-new/capture.png')\n",
    "bi = cv2.imread('./disclaimers-new/capture5.png')\n",
    "beer = cv2.imread('./disclaimers-new/capture3.png')\n",
    "def image_disclaimer(frame, label):\n",
    "    smoking = ['smoking hookah','smoking']\n",
    "    car = ['driving car']\n",
    "    bike = ['riding a bike']\n",
    "    drinking = ['tasting beer']\n",
    "    if(label in smoking):\n",
    "        img1 = frame\n",
    "        wm = sm\n",
    "        wm =cv2.resize(wm,(img1.shape[1]//3+100,img1.shape[0]//3))\n",
    "\n",
    "        x_offset=img1.shape[1]-wm.shape[1]\n",
    "        y_offset=img1.shape[0]-wm.shape[0]\n",
    "        roi = img1[y_offset:img1.shape[0],x_offset:img1.shape[1]]\n",
    "        \n",
    "        img2gray = cv2.cvtColor(wm,cv2.COLOR_BGR2GRAY)\n",
    "        mask_inv = cv2.bitwise_not(img2gray)\n",
    "        white_background = np.full(wm.shape, 255, dtype=np.uint8)\n",
    "        bk = cv2.bitwise_or(white_background, white_background, mask=mask_inv)\n",
    "        final_roi = cv2.bitwise_or(roi,bk)\n",
    "\n",
    "        large_img = img1\n",
    "        small_img = final_roi\n",
    "        large_img[y_offset:y_offset+small_img.shape[0], x_offset:x_offset+small_img.shape[1]] = small_img\n",
    "    elif(label in car):\n",
    "        img1 = frame\n",
    "        wm = ca\n",
    "        wm =cv2.resize(wm,(img1.shape[1]//3+100,img1.shape[0]//3))\n",
    "\n",
    "        x_offset=img1.shape[1]-wm.shape[1]\n",
    "        y_offset=img1.shape[0]-wm.shape[0]\n",
    "        roi = img1[y_offset:img1.shape[0],x_offset:img1.shape[1]]\n",
    "        \n",
    "        img2gray = cv2.cvtColor(wm,cv2.COLOR_BGR2GRAY)\n",
    "        mask_inv = cv2.bitwise_not(img2gray)\n",
    "        white_background = np.full(wm.shape, 255, dtype=np.uint8)\n",
    "        bk = cv2.bitwise_or(white_background, white_background, mask=mask_inv)\n",
    "        final_roi = cv2.bitwise_or(roi,bk)\n",
    "\n",
    "        large_img = img1\n",
    "        small_img = final_roi\n",
    "        large_img[y_offset:y_offset+small_img.shape[0], x_offset:x_offset+small_img.shape[1]] = small_img\n",
    "    elif(label in bike):\n",
    "        img1 = frame\n",
    "        wm = bi\n",
    "        wm =cv2.resize(wm,(img1.shape[1]//3+100,img1.shape[0]//3))\n",
    "\n",
    "        x_offset=img1.shape[1]-wm.shape[1]\n",
    "        y_offset=img1.shape[0]-wm.shape[0]\n",
    "        roi = img1[y_offset:img1.shape[0],x_offset:img1.shape[1]]\n",
    "        \n",
    "        img2gray = cv2.cvtColor(wm,cv2.COLOR_BGR2GRAY)\n",
    "        mask_inv = cv2.bitwise_not(img2gray)\n",
    "        white_background = np.full(wm.shape, 255, dtype=np.uint8)\n",
    "        bk = cv2.bitwise_or(white_background, white_background, mask=mask_inv)\n",
    "        final_roi = cv2.bitwise_or(roi,bk)\n",
    "\n",
    "        large_img = img1\n",
    "        small_img = final_roi\n",
    "        large_img[y_offset:y_offset+small_img.shape[0], x_offset:x_offset+small_img.shape[1]] = small_img\n",
    "    elif(label in drinking):\n",
    "        img1 = frame\n",
    "        wm = beer\n",
    "        wm =cv2.resize(wm,(img1.shape[1]//3+100,img1.shape[0]//3))\n",
    "\n",
    "        x_offset=img1.shape[1]-wm.shape[1]\n",
    "        y_offset=img1.shape[0]-wm.shape[0]\n",
    "        roi = img1[y_offset:img1.shape[0],x_offset:img1.shape[1]]\n",
    "        \n",
    "        img2gray = cv2.cvtColor(wm,cv2.COLOR_BGR2GRAY)\n",
    "        mask_inv = cv2.bitwise_not(img2gray)\n",
    "        white_background = np.full(wm.shape, 255, dtype=np.uint8)\n",
    "        bk = cv2.bitwise_or(white_background, white_background, mask=mask_inv)\n",
    "        final_roi = cv2.bitwise_or(roi,bk)\n",
    "\n",
    "        large_img = img1\n",
    "        small_img = final_roi\n",
    "        large_img[y_offset:y_offset+small_img.shape[0], x_offset:x_offset+small_img.shape[1]] = small_img\n",
    "    \n",
    "    return large_img"
   ]
  },
  {
   "cell_type": "markdown",
   "metadata": {},
   "source": [
    "* Reading input from webcam/Video file\n",
    "* Display Output"
   ]
  },
  {
   "cell_type": "code",
   "execution_count": null,
   "metadata": {},
   "outputs": [],
   "source": [
    "CLASSES = open('action_recognition_kinetics.txt').read().strip().split(\"\\n\")\n",
    "SAMPLE_DURATION = 16\n",
    "SAMPLE_SIZE = 112\n",
    "\n",
    "frames = deque(maxlen=SAMPLE_DURATION)\n",
    "\n",
    "print(\"[INFO] loading human activity recognition model...\")\n",
    "net = cv2.dnn.readNet('resnet-34_kinetics.onnx')\n",
    "\n",
    "print(\"[INFO] accessing video stream...\")\n",
    "# cap = cv2.VideoCapture(0)\n",
    "cap = cv2.VideoCapture('car.mp4')\n",
    "\n",
    "smoking = ['smoking hookah','smoking']\n",
    "car = ['driving car']\n",
    "bike = ['riding a bike']\n",
    "drinking = ['tasting beer']\n",
    "count = 0\n",
    "flag = False\n",
    "while True:\n",
    "    # read a frame from the video stream\n",
    "    (grabbed, frame) = cap.read()\n",
    "\n",
    "    # if end of the video, exit\n",
    "    if not grabbed:\n",
    "        print(\"[INFO] no frame read from stream - exiting\")\n",
    "        break\n",
    "    frame = imutils.resize(frame, width=400)\n",
    "    frames.append(frame)\n",
    "\n",
    "    if len(frames) < SAMPLE_DURATION:\n",
    "        continue\n",
    "\n",
    "    # now that our frames array is filled we can construct our blob\n",
    "    blob = cv2.dnn.blobFromImages(frames, 1.0,\n",
    "        (SAMPLE_SIZE, SAMPLE_SIZE), (114.7748, 107.7354, 99.4750),\n",
    "        swapRB=True, crop=True)\n",
    "    blob = np.transpose(blob, (1, 0, 2, 3))\n",
    "    blob = np.expand_dims(blob, axis=0)\n",
    "\n",
    "    net.setInput(blob)\n",
    "    outputs = net.forward()\n",
    "    label = CLASSES[np.argmax(outputs)]\n",
    "    \n",
    "    # draw the predicted activity on the frame\n",
    "    if(label in smoking):\n",
    "        print(label)\n",
    "        frame = image_disclaimer(frame, label)\n",
    "    elif(label in car):\n",
    "        print(label)\n",
    "        frame = image_disclaimer(frame, label)\n",
    "    elif(label in bike):\n",
    "        print(label)\n",
    "        frame = image_disclaimer(frame, label)\n",
    "    elif(label in drinking):\n",
    "        print(label)\n",
    "        frame = image_disclaimer(frame, label)\n",
    "        \n",
    "    cv2.imshow(\"Activity Recognition\", frame)\n",
    "    if cv2.waitKey(1)==ord('q'):\n",
    "        break\n",
    "cap.release()\n",
    "cv2.destroyAllWindows()"
   ]
  },
  {
   "cell_type": "code",
   "execution_count": 7,
   "metadata": {},
   "outputs": [
    {
     "data": {
      "application/javascript": [
       "window.require && require([\"base/js/namespace\"],function(Jupyter){Jupyter.notebook.save_checkpoint()})"
      ],
      "text/plain": [
       "<IPython.core.display.Javascript object>"
      ]
     },
     "metadata": {},
     "output_type": "display_data"
    },
    {
     "name": "stdout",
     "output_type": "stream",
     "text": [
      "[jovian] Attempting to save notebook..\n",
      "[jovian] Uploading notebook..\n",
      "[jovian] Committed successfully! https://jovian.ml/v-snehith999/movie-cautioning-system\n"
     ]
    },
    {
     "data": {
      "text/plain": [
       "'https://jovian.ml/v-snehith999/movie-cautioning-system'"
      ]
     },
     "execution_count": 7,
     "metadata": {},
     "output_type": "execute_result"
    }
   ],
   "source": [
    "import jovian\n",
    "jovian.commit(environment=None)"
   ]
  },
  {
   "cell_type": "code",
   "execution_count": null,
   "metadata": {},
   "outputs": [],
   "source": []
  }
 ],
 "metadata": {
  "kernelspec": {
   "display_name": "Python 3",
   "language": "python",
   "name": "python3"
  },
  "language_info": {
   "codemirror_mode": {
    "name": "ipython",
    "version": 3
   },
   "file_extension": ".py",
   "mimetype": "text/x-python",
   "name": "python",
   "nbconvert_exporter": "python",
   "pygments_lexer": "ipython3",
   "version": "3.7.5"
  }
 },
 "nbformat": 4,
 "nbformat_minor": 2
}
